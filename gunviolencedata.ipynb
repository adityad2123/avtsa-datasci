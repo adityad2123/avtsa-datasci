{
 "cells": [
  {
   "cell_type": "code",
   "execution_count": 1,
   "id": "a8e26f5b",
   "metadata": {},
   "outputs": [],
   "source": [
    "# importing pandas\n",
    "import pandas as pd\n",
    "# importing datetime\n",
    "import datetime"
   ]
  },
  {
   "cell_type": "code",
   "execution_count": 2,
   "id": "c2f08d44",
   "metadata": {},
   "outputs": [
    {
     "data": {
      "text/plain": [
       "(2000, 11)"
      ]
     },
     "execution_count": 2,
     "metadata": {},
     "output_type": "execute_result"
    }
   ],
   "source": [
    "# importing mass shooting data, finding shape\n",
    "df = pd.read_csv('massshootingdata.csv')\n",
    "df.shape"
   ]
  },
  {
   "cell_type": "code",
   "execution_count": 3,
   "id": "4cf7b9f5",
   "metadata": {},
   "outputs": [],
   "source": [
    "# dropping unneeded columns\n",
    "try:\n",
    "    df.drop(\"Operations\", axis=1, inplace=True)\n",
    "    df.drop(\"Address\", axis=1, inplace=True)\n",
    "# if cell is accidentally run again, will not stop\n",
    "except KeyError:\n",
    "    pass"
   ]
  },
  {
   "cell_type": "code",
   "execution_count": 140,
   "id": "8db8f99e",
   "metadata": {},
   "outputs": [],
   "source": [
    "# suspects column with the number of suspects\n",
    "df[\"suspects\"]= df[\"# Subjects-Suspects Injured\"] + df[\"# Subjects-Suspects Killed\"] + df[\"# Subjects-Suspects Arrested\"]\n",
    "# boolean column showing if a suspect was killed\n",
    "df[\"suspectkilled\"] = df[\"# Subjects-Suspects Killed\"].map(lambda a : a > 0)\n",
    "\n",
    "# dropping unnecessary columns\n",
    "df.drop(\"# Subjects-Suspects Injured\", axis=1, inplace=True)\n",
    "df.drop(\"# Subjects-Suspects Killed\", axis=1, inplace=True)\n",
    "df.drop(\"# Subjects-Suspects Arrested\", axis=1, inplace=True)\n"
   ]
  },
  {
   "cell_type": "code",
   "execution_count": 141,
   "id": "4356e4f8",
   "metadata": {},
   "outputs": [],
   "source": [
    "# renaming columns to clarify purpose & simplify the coding process\n",
    "rename_dict = {\n",
    "    \"Incident ID\": \"id\",\n",
    "    \"Incident Date\": \"date\",\n",
    "    \"State\": \"state\",\n",
    "    \"City Or County\": \"area\",\n",
    "    \"# Victims Injured\": \"injuries\",\n",
    "    \"# Victims Killed\": \"fatalities\",\n",
    "}\n",
    "df.rename(columns=rename_dict, inplace=True)"
   ]
  },
  {
   "cell_type": "code",
   "execution_count": 142,
   "id": "e9336812",
   "metadata": {},
   "outputs": [],
   "source": [
    "df[\"tot_victims\"] = df[\"injuries\"] + df[\"fatalities\"]"
   ]
  },
  {
   "cell_type": "code",
   "execution_count": 143,
   "id": "27c98243",
   "metadata": {},
   "outputs": [],
   "source": [
    "month_num = {\n",
    "    \"January\": 1,\n",
    "    \"February\": 2,\n",
    "    \"March\": 3,\n",
    "    \"April\": 4,\n",
    "    \"May\": 5,\n",
    "    \"June\": 6,\n",
    "    \"July\": 7,\n",
    "    \"August\": 8,\n",
    "    \"September\": 9,\n",
    "    \"October\": 10,\n",
    "    \"November\": 11,\n",
    "    \"December\": 12\n",
    "}\n",
    "\n",
    "# df[\"year\"] = df.date.map(lambda a: int(a[-4:]))\n",
    "\n",
    "def string_to_date(row):\n",
    "    parts = row.date.split(\" \")\n",
    "    month = month_num[parts[0]]\n",
    "    day = int(parts[1].rstrip(','))\n",
    "    year = int(parts[2])\n",
    "    row[\"date\"] = datetime.date(year, month, day)\n",
    "    row[\"year\"] = year\n",
    "    return row\n",
    "    \n",
    "df = df.apply(string_to_date, axis=\"columns\")"
   ]
  },
  {
   "cell_type": "code",
   "execution_count": 144,
   "id": "b37de9aa",
   "metadata": {},
   "outputs": [],
   "source": [
    "df = df.loc[(df.year >= 2021) & (df.year <= 2022)].reset_index()"
   ]
  },
  {
   "cell_type": "code",
   "execution_count": 146,
   "id": "230bb699",
   "metadata": {},
   "outputs": [
    {
     "data": {
      "text/html": [
       "<div>\n",
       "<style scoped>\n",
       "    .dataframe tbody tr th:only-of-type {\n",
       "        vertical-align: middle;\n",
       "    }\n",
       "\n",
       "    .dataframe tbody tr th {\n",
       "        vertical-align: top;\n",
       "    }\n",
       "\n",
       "    .dataframe thead th {\n",
       "        text-align: right;\n",
       "    }\n",
       "</style>\n",
       "<table border=\"1\" class=\"dataframe\">\n",
       "  <thead>\n",
       "    <tr style=\"text-align: right;\">\n",
       "      <th></th>\n",
       "      <th>index</th>\n",
       "      <th>id</th>\n",
       "      <th>date</th>\n",
       "      <th>state</th>\n",
       "      <th>area</th>\n",
       "      <th>injuries</th>\n",
       "      <th>fatalities</th>\n",
       "      <th>suspects</th>\n",
       "      <th>suspectkilled</th>\n",
       "      <th>tot_victims</th>\n",
       "      <th>year</th>\n",
       "    </tr>\n",
       "  </thead>\n",
       "  <tbody>\n",
       "    <tr>\n",
       "      <th>0</th>\n",
       "      <td>226</td>\n",
       "      <td>2492253</td>\n",
       "      <td>2022-12-31</td>\n",
       "      <td>Alabama</td>\n",
       "      <td>Mobile</td>\n",
       "      <td>7</td>\n",
       "      <td>1</td>\n",
       "      <td>2</td>\n",
       "      <td>False</td>\n",
       "      <td>8</td>\n",
       "      <td>2022</td>\n",
       "    </tr>\n",
       "    <tr>\n",
       "      <th>1</th>\n",
       "      <td>227</td>\n",
       "      <td>2491656</td>\n",
       "      <td>2022-12-31</td>\n",
       "      <td>Arizona</td>\n",
       "      <td>Phoenix</td>\n",
       "      <td>9</td>\n",
       "      <td>0</td>\n",
       "      <td>0</td>\n",
       "      <td>False</td>\n",
       "      <td>9</td>\n",
       "      <td>2022</td>\n",
       "    </tr>\n",
       "    <tr>\n",
       "      <th>2</th>\n",
       "      <td>228</td>\n",
       "      <td>2491054</td>\n",
       "      <td>2022-12-30</td>\n",
       "      <td>Tennessee</td>\n",
       "      <td>Memphis</td>\n",
       "      <td>3</td>\n",
       "      <td>1</td>\n",
       "      <td>0</td>\n",
       "      <td>False</td>\n",
       "      <td>4</td>\n",
       "      <td>2022</td>\n",
       "    </tr>\n",
       "    <tr>\n",
       "      <th>3</th>\n",
       "      <td>229</td>\n",
       "      <td>2490925</td>\n",
       "      <td>2022-12-30</td>\n",
       "      <td>Texas</td>\n",
       "      <td>Humble</td>\n",
       "      <td>3</td>\n",
       "      <td>2</td>\n",
       "      <td>0</td>\n",
       "      <td>False</td>\n",
       "      <td>5</td>\n",
       "      <td>2022</td>\n",
       "    </tr>\n",
       "    <tr>\n",
       "      <th>4</th>\n",
       "      <td>230</td>\n",
       "      <td>2489614</td>\n",
       "      <td>2022-12-28</td>\n",
       "      <td>New York</td>\n",
       "      <td>Bronx</td>\n",
       "      <td>3</td>\n",
       "      <td>1</td>\n",
       "      <td>2</td>\n",
       "      <td>False</td>\n",
       "      <td>4</td>\n",
       "      <td>2022</td>\n",
       "    </tr>\n",
       "  </tbody>\n",
       "</table>\n",
       "</div>"
      ],
      "text/plain": [
       "   index       id        date      state     area  injuries  fatalities  \\\n",
       "0    226  2492253  2022-12-31    Alabama   Mobile         7           1   \n",
       "1    227  2491656  2022-12-31    Arizona  Phoenix         9           0   \n",
       "2    228  2491054  2022-12-30  Tennessee  Memphis         3           1   \n",
       "3    229  2490925  2022-12-30      Texas   Humble         3           2   \n",
       "4    230  2489614  2022-12-28   New York    Bronx         3           1   \n",
       "\n",
       "   suspects  suspectkilled  tot_victims  year  \n",
       "0         2          False            8  2022  \n",
       "1         0          False            9  2022  \n",
       "2         0          False            4  2022  \n",
       "3         0          False            5  2022  \n",
       "4         2          False            4  2022  "
      ]
     },
     "execution_count": 146,
     "metadata": {},
     "output_type": "execute_result"
    }
   ],
   "source": [
    "df.head()"
   ]
  }
 ],
 "metadata": {
  "kernelspec": {
   "display_name": "Python 3 (ipykernel)",
   "language": "python",
   "name": "python3"
  },
  "language_info": {
   "codemirror_mode": {
    "name": "ipython",
    "version": 3
   },
   "file_extension": ".py",
   "mimetype": "text/x-python",
   "name": "python",
   "nbconvert_exporter": "python",
   "pygments_lexer": "ipython3",
   "version": "3.9.12"
  }
 },
 "nbformat": 4,
 "nbformat_minor": 5
}
